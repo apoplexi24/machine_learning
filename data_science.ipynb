{
 "cells": [
  {
   "cell_type": "code",
   "execution_count": 56,
   "metadata": {},
   "outputs": [
    {
     "name": "stdout",
     "output_type": "stream",
     "text": [
      "\t Maths Internal Marks\n",
      "Total internal marks is out of 30.\n"
     ]
    },
    {
     "data": {
      "text/html": [
       "<div>\n",
       "<style scoped>\n",
       "    .dataframe tbody tr th:only-of-type {\n",
       "        vertical-align: middle;\n",
       "    }\n",
       "\n",
       "    .dataframe tbody tr th {\n",
       "        vertical-align: top;\n",
       "    }\n",
       "\n",
       "    .dataframe thead th {\n",
       "        text-align: right;\n",
       "    }\n",
       "</style>\n",
       "<table border=\"1\" class=\"dataframe\">\n",
       "  <thead>\n",
       "    <tr style=\"text-align: right;\">\n",
       "      <th></th>\n",
       "      <th>Names</th>\n",
       "      <th>Marks</th>\n",
       "    </tr>\n",
       "  </thead>\n",
       "  <tbody>\n",
       "    <tr>\n",
       "      <th>0</th>\n",
       "      <td>Shiva</td>\n",
       "      <td>29</td>\n",
       "    </tr>\n",
       "    <tr>\n",
       "      <th>1</th>\n",
       "      <td>Ravi</td>\n",
       "      <td>27</td>\n",
       "    </tr>\n",
       "    <tr>\n",
       "      <th>2</th>\n",
       "      <td>Parth</td>\n",
       "      <td>27</td>\n",
       "    </tr>\n",
       "    <tr>\n",
       "      <th>3</th>\n",
       "      <td>Sanskruti</td>\n",
       "      <td>29</td>\n",
       "    </tr>\n",
       "    <tr>\n",
       "      <th>4</th>\n",
       "      <td>Rohan</td>\n",
       "      <td>25</td>\n",
       "    </tr>\n",
       "    <tr>\n",
       "      <th>5</th>\n",
       "      <td>Chetan</td>\n",
       "      <td>20</td>\n",
       "    </tr>\n",
       "    <tr>\n",
       "      <th>6</th>\n",
       "      <td>Jayanth</td>\n",
       "      <td>24</td>\n",
       "    </tr>\n",
       "    <tr>\n",
       "      <th>7</th>\n",
       "      <td>Shalmali</td>\n",
       "      <td>28</td>\n",
       "    </tr>\n",
       "    <tr>\n",
       "      <th>8</th>\n",
       "      <td>Shreshtha</td>\n",
       "      <td>28</td>\n",
       "    </tr>\n",
       "    <tr>\n",
       "      <th>9</th>\n",
       "      <td>Moubani</td>\n",
       "      <td>30</td>\n",
       "    </tr>\n",
       "    <tr>\n",
       "      <th>10</th>\n",
       "      <td>Asad</td>\n",
       "      <td>25</td>\n",
       "    </tr>\n",
       "    <tr>\n",
       "      <th>11</th>\n",
       "      <td>Nik</td>\n",
       "      <td>26</td>\n",
       "    </tr>\n",
       "  </tbody>\n",
       "</table>\n",
       "</div>"
      ],
      "text/plain": [
       "        Names  Marks\n",
       "0       Shiva     29\n",
       "1        Ravi     27\n",
       "2       Parth     27\n",
       "3   Sanskruti     29\n",
       "4       Rohan     25\n",
       "5      Chetan     20\n",
       "6     Jayanth     24\n",
       "7    Shalmali     28\n",
       "8   Shreshtha     28\n",
       "9     Moubani     30\n",
       "10       Asad     25\n",
       "11        Nik     26"
      ]
     },
     "metadata": {},
     "output_type": "display_data"
    },
    {
     "name": "stdout",
     "output_type": "stream",
     "text": [
      "The mean score is 26.50 marks\n",
      "The variance of the marks is 7.545 from the mean\n",
      "The standard deviation is 2.747 marks\n"
     ]
    }
   ],
   "source": [
    "#standard_deviation\n",
    "import pandas as pd\n",
    "import seaborn as sns\n",
    "\n",
    "print(\"\\t Maths Internal Marks\")\n",
    "print(\"Total internal marks is out of 30.\")\n",
    "\n",
    "#Create a Dictionary of series\n",
    "data = {'Names':pd.Series(['Shiva','Ravi','Parth','Sanskruti','Rohan','Chetan','Jayanth',\n",
    "   'Shalmali','Shreshtha','Moubani','Asad','Nik']),\n",
    "   'Marks':pd.Series([29,27,27,29,25,20,24,28,28,30,25,26])}\n",
    "\n",
    "#Creating a DataFrame\n",
    "df = pd.DataFrame(data)\n",
    "\n",
    "# Calculating the mean and standard deviation\n",
    "display(df)\n",
    "data_mean = df.mean()\n",
    "data_var = df.var()\n",
    "data_stddev = df.std()\n",
    "\n",
    "              \n",
    "print(\"The mean score is %0.2f marks\" %(data_mean))\n",
    "print(\"The variance of the marks is %0.3f from the mean\" %(data_var))\n",
    "print(\"The standard deviation is %0.3f marks\" %(data_stddev))\n"
   ]
  },
  {
   "cell_type": "code",
   "execution_count": 69,
   "metadata": {},
   "outputs": [
    {
     "data": {
      "image/png": "[encoded data removed]",
      "text/plain": [
       "<Figure size 432x288 with 1 Axes>"
      ]
     },
     "metadata": {
      "needs_background": "light"
     },
     "output_type": "display_data"
    }
   ],
   "source": [
    "sns.scatterplot(x = 'Names', y = 'Marks', data = data, s = 50, sizes = (200, 200))\n",
    "plt.xticks(rotation = 90)\n",
    "plt.yticks(rotation = 0)\n",
    "plt.show()"
   ]
  },
  {
   "cell_type": "code",
   "execution_count": null,
   "metadata": {},
   "outputs": [],
   "source": [
    "  "
   ]
  }
 ],
 "metadata": {
  "kernelspec": {
   "display_name": "Python 3",
   "language": "python",
   "name": "python3"
  },
  "language_info": {
   "codemirror_mode": {
    "name": "ipython",
    "version": 3
   },
   "file_extension": ".py",
   "mimetype": "text/x-python",
   "name": "python",
   "nbconvert_exporter": "python",
   "pygments_lexer": "ipython3",
   "version": "3.8.5"
  }
 },
 "nbformat": 4,
 "nbformat_minor": 4
}
